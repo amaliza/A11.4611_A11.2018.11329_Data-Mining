{
 "cells": [
  {
   "cell_type": "code",
   "execution_count": 1,
   "id": "exciting-latvia",
   "metadata": {},
   "outputs": [],
   "source": [
    "#import library\n",
    "import numpy as np\n",
    "import matplotlib.pyplot as plt\n",
    "import pandas as pd"
   ]
  },
  {
   "cell_type": "code",
   "execution_count": 2,
   "id": "continental-kitty",
   "metadata": {},
   "outputs": [],
   "source": [
    "#import library\n",
    "dataset = pd.read_csv('DatasetKaryawan.csv')\n",
    "x = dataset.iloc[:, :-1].values\n",
    "y = dataset.iloc[:, -1].values"
   ]
  },
  {
   "cell_type": "code",
   "execution_count": 3,
   "id": "civil-balloon",
   "metadata": {},
   "outputs": [
    {
     "name": "stdout",
     "output_type": "stream",
     "text": [
      "[['Banten' 24.0 5000000.0]\n",
      " ['DKI Jakarta' nan 3400000.0]\n",
      " ['Jawa Barat' 60.0 7350000.0]\n",
      " ['Banten' 34.0 3500000.0]\n",
      " ['Jawa Barat' 58.0 nan]\n",
      " ['DKI Jakarta' nan 8000000.0]\n",
      " ['Banten' 21.0 10000000.0]\n",
      " ['Banten' 44.0 10000000.0]\n",
      " ['Jawa Barat' 40.0 9000000.0]\n",
      " ['DKI  Jakarta' 51.0 10500000.0]\n",
      " ['Banten' 32.0 nan]\n",
      " ['Banten' 30.0 6400000.0]\n",
      " ['Jawa Barat' 30.0 nan]\n",
      " ['DKI  Jakarta' 19.0 2200000.0]\n",
      " ['DKI  Jakarta' 25.0 4500000.0]]\n"
     ]
    }
   ],
   "source": [
    "print(x)"
   ]
  },
  {
   "cell_type": "code",
   "execution_count": 4,
   "id": "accessory-sapphire",
   "metadata": {},
   "outputs": [
    {
     "name": "stdout",
     "output_type": "stream",
     "text": [
      "['Yes' 'No' 'No' 'No' 'Yes' 'No' 'No' 'Yes' 'Yes' 'Yes' 'No' 'No' 'No'\n",
      " 'Yes' 'Yes']\n"
     ]
    }
   ],
   "source": [
    "print(y)"
   ]
  },
  {
   "cell_type": "code",
   "execution_count": 5,
   "id": "neither-asthma",
   "metadata": {},
   "outputs": [],
   "source": [
    "#Menghilangkan Missing Values (nan)\n",
    "from sklearn.impute import SimpleImputer\n",
    "imputer = SimpleImputer(missing_values=np.nan, strategy='mean')\n",
    "imputer.fit(x[:, 1:3])\n",
    "x[:, 1:3] = imputer.transform(x[:, 1:3])"
   ]
  },
  {
   "cell_type": "code",
   "execution_count": 6,
   "id": "linear-regular",
   "metadata": {},
   "outputs": [
    {
     "name": "stdout",
     "output_type": "stream",
     "text": [
      "[['Banten' 24.0 5000000.0]\n",
      " ['DKI Jakarta' 36.0 3400000.0]\n",
      " ['Jawa Barat' 60.0 7350000.0]\n",
      " ['Banten' 34.0 3500000.0]\n",
      " ['Jawa Barat' 58.0 6654166.666666667]\n",
      " ['DKI Jakarta' 36.0 8000000.0]\n",
      " ['Banten' 21.0 10000000.0]\n",
      " ['Banten' 44.0 10000000.0]\n",
      " ['Jawa Barat' 40.0 9000000.0]\n",
      " ['DKI  Jakarta' 51.0 10500000.0]\n",
      " ['Banten' 32.0 6654166.666666667]\n",
      " ['Banten' 30.0 6400000.0]\n",
      " ['Jawa Barat' 30.0 6654166.666666667]\n",
      " ['DKI  Jakarta' 19.0 2200000.0]\n",
      " ['DKI  Jakarta' 25.0 4500000.0]]\n"
     ]
    }
   ],
   "source": [
    "print(x)"
   ]
  },
  {
   "cell_type": "code",
   "execution_count": 8,
   "id": "brutal-twelve",
   "metadata": {},
   "outputs": [],
   "source": [
    "#Encoding Data Kategori (Atribut)\n",
    "from sklearn.compose import ColumnTransformer\n",
    "from sklearn.preprocessing import OneHotEncoder\n",
    "ct = ColumnTransformer(transformers=[('encoder', OneHotEncoder(), [0])], remainder='passthrough')\n",
    "x = ct.fit_transform(x).astype(float)"
   ]
  },
  {
   "cell_type": "code",
   "execution_count": 9,
   "id": "unnecessary-knife",
   "metadata": {},
   "outputs": [
    {
     "name": "stdout",
     "output_type": "stream",
     "text": [
      "[[1.00000000e+00 0.00000000e+00 0.00000000e+00 0.00000000e+00\n",
      "  2.40000000e+01 5.00000000e+06]\n",
      " [0.00000000e+00 0.00000000e+00 1.00000000e+00 0.00000000e+00\n",
      "  3.60000000e+01 3.40000000e+06]\n",
      " [0.00000000e+00 0.00000000e+00 0.00000000e+00 1.00000000e+00\n",
      "  6.00000000e+01 7.35000000e+06]\n",
      " [1.00000000e+00 0.00000000e+00 0.00000000e+00 0.00000000e+00\n",
      "  3.40000000e+01 3.50000000e+06]\n",
      " [0.00000000e+00 0.00000000e+00 0.00000000e+00 1.00000000e+00\n",
      "  5.80000000e+01 6.65416667e+06]\n",
      " [0.00000000e+00 0.00000000e+00 1.00000000e+00 0.00000000e+00\n",
      "  3.60000000e+01 8.00000000e+06]\n",
      " [1.00000000e+00 0.00000000e+00 0.00000000e+00 0.00000000e+00\n",
      "  2.10000000e+01 1.00000000e+07]\n",
      " [1.00000000e+00 0.00000000e+00 0.00000000e+00 0.00000000e+00\n",
      "  4.40000000e+01 1.00000000e+07]\n",
      " [0.00000000e+00 0.00000000e+00 0.00000000e+00 1.00000000e+00\n",
      "  4.00000000e+01 9.00000000e+06]\n",
      " [0.00000000e+00 1.00000000e+00 0.00000000e+00 0.00000000e+00\n",
      "  5.10000000e+01 1.05000000e+07]\n",
      " [1.00000000e+00 0.00000000e+00 0.00000000e+00 0.00000000e+00\n",
      "  3.20000000e+01 6.65416667e+06]\n",
      " [1.00000000e+00 0.00000000e+00 0.00000000e+00 0.00000000e+00\n",
      "  3.00000000e+01 6.40000000e+06]\n",
      " [0.00000000e+00 0.00000000e+00 0.00000000e+00 1.00000000e+00\n",
      "  3.00000000e+01 6.65416667e+06]\n",
      " [0.00000000e+00 1.00000000e+00 0.00000000e+00 0.00000000e+00\n",
      "  1.90000000e+01 2.20000000e+06]\n",
      " [0.00000000e+00 1.00000000e+00 0.00000000e+00 0.00000000e+00\n",
      "  2.50000000e+01 4.50000000e+06]]\n"
     ]
    }
   ],
   "source": [
    "print(x)"
   ]
  },
  {
   "cell_type": "code",
   "execution_count": 10,
   "id": "applicable-problem",
   "metadata": {},
   "outputs": [],
   "source": [
    "#Encoding Data Kategori (class/label)\n",
    "from sklearn.preprocessing import LabelEncoder\n",
    "le = LabelEncoder()\n",
    "y = le.fit_transform(y)"
   ]
  },
  {
   "cell_type": "code",
   "execution_count": 11,
   "id": "enhanced-ebony",
   "metadata": {},
   "outputs": [
    {
     "name": "stdout",
     "output_type": "stream",
     "text": [
      "[1 0 0 0 1 0 0 1 1 1 0 0 0 1 1]\n"
     ]
    }
   ],
   "source": [
    "print(y)"
   ]
  },
  {
   "cell_type": "code",
   "execution_count": 21,
   "id": "interesting-breath",
   "metadata": {},
   "outputs": [],
   "source": [
    "#Membagi Dataset Ke Dalam training set dan test set\n",
    "from sklearn.model_selection import train_test_split\n",
    "x_train, x_test, y_train, y_test = train_test_split(x, y, test_size = 0.2, random_state = 0)"
   ]
  },
  {
   "cell_type": "code",
   "execution_count": 22,
   "id": "helpful-measurement",
   "metadata": {},
   "outputs": [
    {
     "name": "stdout",
     "output_type": "stream",
     "text": [
      "[[0.00000000e+00 1.00000000e+00 0.00000000e+00 0.00000000e+00\n",
      "  5.10000000e+01 1.05000000e+07]\n",
      " [0.00000000e+00 1.00000000e+00 0.00000000e+00 0.00000000e+00\n",
      "  2.50000000e+01 4.50000000e+06]\n",
      " [0.00000000e+00 0.00000000e+00 0.00000000e+00 1.00000000e+00\n",
      "  5.80000000e+01 6.65416667e+06]\n",
      " [0.00000000e+00 0.00000000e+00 0.00000000e+00 1.00000000e+00\n",
      "  6.00000000e+01 7.35000000e+06]\n",
      " [0.00000000e+00 1.00000000e+00 0.00000000e+00 0.00000000e+00\n",
      "  1.90000000e+01 2.20000000e+06]\n",
      " [1.00000000e+00 0.00000000e+00 0.00000000e+00 0.00000000e+00\n",
      "  3.20000000e+01 6.65416667e+06]\n",
      " [1.00000000e+00 0.00000000e+00 0.00000000e+00 0.00000000e+00\n",
      "  4.40000000e+01 1.00000000e+07]\n",
      " [1.00000000e+00 0.00000000e+00 0.00000000e+00 0.00000000e+00\n",
      "  3.00000000e+01 6.40000000e+06]\n",
      " [1.00000000e+00 0.00000000e+00 0.00000000e+00 0.00000000e+00\n",
      "  3.40000000e+01 3.50000000e+06]\n",
      " [1.00000000e+00 0.00000000e+00 0.00000000e+00 0.00000000e+00\n",
      "  2.40000000e+01 5.00000000e+06]\n",
      " [0.00000000e+00 0.00000000e+00 1.00000000e+00 0.00000000e+00\n",
      "  3.60000000e+01 8.00000000e+06]\n",
      " [0.00000000e+00 0.00000000e+00 0.00000000e+00 1.00000000e+00\n",
      "  3.00000000e+01 6.65416667e+06]]\n"
     ]
    }
   ],
   "source": [
    "print(x_train)"
   ]
  },
  {
   "cell_type": "code",
   "execution_count": 23,
   "id": "false-authorization",
   "metadata": {},
   "outputs": [
    {
     "name": "stdout",
     "output_type": "stream",
     "text": [
      "[[0.0e+00 0.0e+00 1.0e+00 0.0e+00 3.6e+01 3.4e+06]\n",
      " [1.0e+00 0.0e+00 0.0e+00 0.0e+00 2.1e+01 1.0e+07]\n",
      " [0.0e+00 0.0e+00 0.0e+00 1.0e+00 4.0e+01 9.0e+06]]\n"
     ]
    }
   ],
   "source": [
    "print(x_test)"
   ]
  },
  {
   "cell_type": "code",
   "execution_count": 24,
   "id": "micro-surgery",
   "metadata": {},
   "outputs": [
    {
     "name": "stdout",
     "output_type": "stream",
     "text": [
      "[1 1 1 0 1 0 1 0 0 1 0 0]\n"
     ]
    }
   ],
   "source": [
    "print(y_train)"
   ]
  },
  {
   "cell_type": "code",
   "execution_count": 25,
   "id": "royal-square",
   "metadata": {},
   "outputs": [
    {
     "name": "stdout",
     "output_type": "stream",
     "text": [
      "[0 0 1]\n"
     ]
    }
   ],
   "source": [
    "print(y_test)"
   ]
  },
  {
   "cell_type": "code",
   "execution_count": 27,
   "id": "iraqi-turkey",
   "metadata": {},
   "outputs": [],
   "source": [
    "#Feature Scaling\n",
    "from sklearn.preprocessing import StandardScaler\n",
    "sc = StandardScaler()\n",
    "x_train = sc.fit_transform(x_train)\n",
    "x_test = sc.transform(x_test)"
   ]
  },
  {
   "cell_type": "code",
   "execution_count": 28,
   "id": "cathedral-variance",
   "metadata": {},
   "outputs": [
    {
     "name": "stdout",
     "output_type": "stream",
     "text": [
      "[[-0.84515425  1.73205081 -0.30151134 -0.57735027  1.09502729  1.73951035]\n",
      " [-0.84515425  1.73205081 -0.30151134 -0.57735027 -0.92656155 -0.83820501]\n",
      " [-0.84515425 -0.57735027 -0.30151134  1.73205081  1.63930121  0.08726641]\n",
      " [-0.84515425 -0.57735027 -0.30151134  1.73205081  1.79480804  0.38620978]\n",
      " [-0.84515425  1.73205081 -0.30151134 -0.57735027 -1.39308205 -1.82632923]\n",
      " [ 1.18321596 -0.57735027 -0.30151134 -0.57735027 -0.38228763  0.08726641]\n",
      " [ 1.18321596 -0.57735027 -0.30151134 -0.57735027  0.55075337  1.52470073]\n",
      " [ 1.18321596 -0.57735027 -0.30151134 -0.57735027 -0.53779447 -0.02192848]\n",
      " [ 1.18321596 -0.57735027 -0.30151134 -0.57735027 -0.2267808  -1.26782424]\n",
      " [ 1.18321596 -0.57735027 -0.30151134 -0.57735027 -1.00431497 -0.6233954 ]\n",
      " [-0.84515425 -0.57735027  3.31662479 -0.57735027 -0.07127397  0.66546228]\n",
      " [-0.84515425 -0.57735027 -0.30151134  1.73205081 -0.53779447  0.08726641]]\n"
     ]
    }
   ],
   "source": [
    "print(x_train)"
   ]
  },
  {
   "cell_type": "code",
   "execution_count": 29,
   "id": "allied-friday",
   "metadata": {},
   "outputs": [
    {
     "name": "stdout",
     "output_type": "stream",
     "text": [
      "[[-0.84515425 -0.57735027  3.31662479 -0.57735027 -0.07127397 -1.31078616]\n",
      " [ 1.18321596 -0.57735027 -0.30151134 -0.57735027 -1.23757522  1.52470073]\n",
      " [-0.84515425 -0.57735027 -0.30151134  1.73205081  0.2397397   1.09508151]]\n"
     ]
    }
   ],
   "source": [
    "print(x_test)"
   ]
  },
  {
   "cell_type": "code",
   "execution_count": null,
   "id": "ordinary-bolivia",
   "metadata": {},
   "outputs": [],
   "source": []
  }
 ],
 "metadata": {
  "kernelspec": {
   "display_name": "Python 3",
   "language": "python",
   "name": "python3"
  },
  "language_info": {
   "codemirror_mode": {
    "name": "ipython",
    "version": 3
   },
   "file_extension": ".py",
   "mimetype": "text/x-python",
   "name": "python",
   "nbconvert_exporter": "python",
   "pygments_lexer": "ipython3",
   "version": "3.8.5"
  }
 },
 "nbformat": 4,
 "nbformat_minor": 5
}
